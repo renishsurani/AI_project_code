{
  "nbformat": 4,
  "nbformat_minor": 0,
  "metadata": {
    "colab": {
      "provenance": []
    },
    "kernelspec": {
      "name": "python3",
      "display_name": "Python 3"
    },
    "language_info": {
      "name": "python"
    }
  },
  "cells": [
    {
      "cell_type": "code",
      "source": [
        "from google.colab import drive\n",
        "drive.mount('/content/drive')"
      ],
      "metadata": {
        "colab": {
          "base_uri": "https://localhost:8080/"
        },
        "id": "VGHFuLETtd1I",
        "outputId": "6ba431ee-9f2e-4d07-c3f4-d544ffa2fedb"
      },
      "execution_count": null,
      "outputs": [
        {
          "output_type": "stream",
          "name": "stdout",
          "text": [
            "Drive already mounted at /content/drive; to attempt to forcibly remount, call drive.mount(\"/content/drive\", force_remount=True).\n"
          ]
        }
      ]
    },
    {
      "cell_type": "code",
      "source": [
        "import numpy\n",
        "import pandas as pd\n",
        "import matplotlib.pyplot as plt"
      ],
      "metadata": {
        "id": "pI2nlHVkte6j"
      },
      "execution_count": null,
      "outputs": []
    },
    {
      "cell_type": "code",
      "source": [
        "code_data_set = pd.read_csv(\"/content/drive/MyDrive/Colab Notebooks/datasets/AI_python_code_set.csv\", encoding='cp1252')"
      ],
      "metadata": {
        "id": "sgSh8uSPthZS"
      },
      "execution_count": null,
      "outputs": []
    },
    {
      "cell_type": "code",
      "source": [
        "code_data_setlist = code_data_set.iloc[:,0:1].values.tolist()\n",
        "# code_data_setlist"
      ],
      "metadata": {
        "id": "7lSdgJkGtjK4"
      },
      "execution_count": null,
      "outputs": []
    },
    {
      "cell_type": "code",
      "execution_count": null,
      "metadata": {
        "colab": {
          "base_uri": "https://localhost:8080/"
        },
        "id": "czp07G0xtWUK",
        "outputId": "3e3fa047-e018-41a0-8fb6-6839de2ed6dc"
      },
      "outputs": [
        {
          "output_type": "stream",
          "name": "stdout",
          "text": [
            "=> This code does not contain any functions, variables, or classes.\n",
            "\n",
            "=> This code does not contain any functions, variables, or classes.\n",
            "\n",
            "=> This code defines a function named ab that takes  as input and returns printa.\n",
            "This code defines a function named printa that takes  as input and returns equals.\n",
            "\n",
            "=> This code does not contain any functions, variables, or classes.\n",
            "\n",
            "=> This code does not contain any functions, variables, or classes.\n",
            "\n",
            "=> This code defines a function named intnum that takes  as input and returns printis.\n",
            "\n",
            "=> This code defines a function named d1keys that takes  as input and returns d1values.\n",
            "\n",
            "=> This code defines a function named prints1 that takes  as input and returns s1unions2.\n",
            "\n",
            "=> This code defines a function named n5 that takes  as input and returns break.\n",
            "This code defines a function named n5 that takes  as input and returns continue.\n",
            "This code defines a function named n5 that takes  as input and returns pass.\n",
            "\n",
            "=> This code does not contain any functions, variables, or classes.\n",
            "\n",
            "=> This code does not contain any functions, variables, or classes.\n",
            "\n",
            "=> This code does not contain any functions, variables, or classes.\n",
            "\n",
            "=> This code does not contain any functions, variables, or classes.\n",
            "\n",
            "=> This code defines a function named ab that takes  as input and returns printa.\n",
            "\n",
            "=> This code does not contain any functions, variables, or classes.\n",
            "\n",
            "=> This code does not contain any functions, variables, or classes.\n",
            "\n",
            "=> This code does not contain any functions, variables, or classes.\n",
            "\n",
            "=> This code does not contain any functions, variables, or classes.\n",
            "\n",
            "=> This code does not contain any functions, variables, or classes.\n",
            "\n",
            "=> This code defines a function named printshapeareacirclearea8 that takes  as input and returns printshapeareatrianglearea47.\n",
            "\n"
          ]
        }
      ],
      "source": [
        "import spacy\n",
        "import re\n",
        "count = 0\n",
        "for code in code_data_setlist:\n",
        "  count = count + 1\n",
        "  code = str(code)\n",
        "  \n",
        "  # Load the spacy model\n",
        "  nlp = spacy.load('en_core_web_sm')\n",
        "\n",
        "  # Preprocess the code snippet\n",
        "  def preprocess_code(code):\n",
        "      code = re.sub(r'[^\\w\\s]', '', code)\n",
        "      code = code.lower()\n",
        "      return code\n",
        "\n",
        "  # Define a function to extract the code features\n",
        "  def extract_features(code):\n",
        "      doc = nlp(code)\n",
        "      features = []\n",
        "      for token in doc:\n",
        "          if token.is_stop or token.is_punct or token.is_space:\n",
        "              continue\n",
        "          features.append(token.lemma_)\n",
        "          # features.append(token.lemma)\n",
        "      return ' '.join(features)\n",
        "      # return ' '.join(str(v) for v in features)\n",
        "\n",
        "  # Define a function to generate a description\n",
        "  # def generate_description(code):\n",
        "  #     code = preprocess_code(code)\n",
        "  #     features = extract_features(code)\n",
        "  #     description = f\"This code {features}\"\n",
        "  #     return description\n",
        "\n",
        "  def generate_description(code):\n",
        "      code = preprocess_code(code)\n",
        "      doc = nlp(code)\n",
        "\n",
        "      functions = []\n",
        "      variables = []\n",
        "      classes = []\n",
        "\n",
        "      for token in doc:\n",
        "          if token.dep_ == \"nsubj\" and token.pos_ == \"PROPN\" and token.head.pos_ == \"VERB\":\n",
        "              functions.append(token)\n",
        "          elif token.pos_ == \"PRON\" and token.head.pos_ == \"NOUN\":\n",
        "              variables.append(token)\n",
        "          elif token.pos_ == \"PROPN\" and token.ent_type_ == \"CLASS\":\n",
        "              classes.append(token)\n",
        "\n",
        "      description = \"\"\n",
        "      if functions:\n",
        "          for function in functions:\n",
        "              inputs = []\n",
        "              for child in function.children:\n",
        "                  if child.pos_ == \"NOUN\" and child.dep_ == \"dobj\":\n",
        "                      inputs.append(child)\n",
        "              inputs_str = \"\"\n",
        "              for i, input_ in enumerate(inputs):\n",
        "                  inputs_str += input_.text\n",
        "                  if i < len(inputs) - 1:\n",
        "                      inputs_str += \" and \"\n",
        "              description += f\"This code defines a function named {function.text} that takes {inputs_str} as input and returns {function.head.text}.\\n\"\n",
        "\n",
        "      if variables:\n",
        "          for variable in variables:\n",
        "              if variable.head.pos_ == \"VERB\" and variable.head.text not in [\"is\", \"are\"]:\n",
        "                  description += f\"{variable.head.text.capitalize()}s {variable.text}.\\n\"\n",
        "\n",
        "      if classes:\n",
        "          for class_ in classes:\n",
        "              description += f\"This code defines a class named {class_.text}.\\n\"\n",
        "\n",
        "      if not description:\n",
        "          description = \"This code does not contain any functions, variables, or classes.\"\n",
        "\n",
        "      return description.strip()\n",
        "\n",
        "  # code = \"def add_numbers(x, y):\\n\\treturn x + y\"\n",
        "  preprocess_code(code)\n",
        "  extract_features(code)\n",
        "  description = generate_description(code)\n",
        "  print(\"=> \"+description+\"\\n\")\n",
        "  if(count == 20):\n",
        "    break"
      ]
    }
  ]
}